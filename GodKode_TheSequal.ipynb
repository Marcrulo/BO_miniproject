{
 "cells": [
  {
   "cell_type": "code",
   "execution_count": 14,
   "id": "f687f797",
   "metadata": {},
   "outputs": [],
   "source": [
    "import pandas as pd\n",
    "import numpy as np\n",
    "import matplotlib.pyplot as plt\n",
    "import seaborn as sns\n",
    "from sklearn.neighbors import KNeighborsClassifier\n",
    "from sklearn.metrics import classification_report\n",
    "from sklearn.model_selection import train_test_split\n",
    "from sklearn.metrics import roc_auc_score\n",
    "from sklearn.model_selection import GridSearchCV\n",
    "\n",
    "#from sklearn import datasets\n",
    "from torchvision import datasets\n",
    "from sklearn.model_selection import ParameterSampler, RandomizedSearchCV, cross_val_score\n",
    "from sklearn import metrics\n",
    "import GPyOpt\n"
   ]
  },
  {
   "cell_type": "code",
   "execution_count": 2,
   "id": "84a0a6ad",
   "metadata": {},
   "outputs": [
    {
     "name": "stdout",
     "output_type": "stream",
     "text": [
      "(178, 13) (178,)\n"
     ]
    }
   ],
   "source": [
    "mnist = datasets.load_wine()\n",
    "X = mnist['data']\n",
    "y = mnist['target']\n",
    "print(X.shape, y.shape)"
   ]
  },
  {
   "cell_type": "code",
   "execution_count": 12,
   "id": "4d805253",
   "metadata": {},
   "outputs": [
    {
     "name": "stdout",
     "output_type": "stream",
     "text": [
      "              precision    recall  f1-score   support\n",
      "\n",
      "           0       0.83      1.00      0.91        10\n",
      "           1       0.83      0.77      0.80        13\n",
      "           2       0.83      0.77      0.80        13\n",
      "\n",
      "    accuracy                           0.83        36\n",
      "   macro avg       0.83      0.85      0.84        36\n",
      "weighted avg       0.83      0.83      0.83        36\n",
      "\n"
     ]
    }
   ],
   "source": [
    "#Create KNN Object.\n",
    "knn = KNeighborsClassifier(n_neighbors=1)\n",
    "\n",
    "#Split data into training and testing.\n",
    "x_train, x_test, y_train, y_test = train_test_split(X, y, test_size=0.2, random_state=4)\n",
    "\n",
    "#Training the model.\n",
    "knn.fit(x_train, y_train)\n",
    "\n",
    "#Predict test data set.\n",
    "y_pred = knn.predict(x_test)\n",
    "\n",
    "#Checking performance our model with classification report.\n",
    "print(classification_report(y_test, y_pred))"
   ]
  },
  {
   "cell_type": "code",
   "execution_count": 15,
   "id": "bbc82bd6",
   "metadata": {},
   "outputs": [],
   "source": [
    "def load_MNIST():\n",
    "\n",
    "    # we want to flat the examples\n",
    "\n",
    "    training_set = datasets.MNIST(root='./data', train=True, download=True, transform= None)\n",
    "    test_set = datasets.MNIST(root='./data', train=False, download=True, transform= None)\n",
    "\n",
    "    x_train = training_set.data.numpy().reshape(-1,28*28)\n",
    "    x_test = test_set.data.numpy().reshape(-1,28*28)\n",
    "\n",
    "    y_train = training_set.targets.numpy()\n",
    "    y_test = test_set.targets.numpy()\n",
    "\n",
    "    return x_train, y_train, x_test, y_test\n",
    "\n",
    "## we can load the training set and test set\n",
    "x_train, y_train, x_test, y_test = load_MNIST()\n",
    "\n",
    "## we use a mask to selects those subsets\n",
    "train_filter = np.isin(y_train, [3, 5, 8, 9])\n",
    "test_filter = np.isin(y_test, [3, 5, 8, 9])\n",
    "\n",
    "# apply the mask to the entire dataset\n",
    "x_train, y_train = x_train[train_filter], y_train[train_filter]\n",
    "x_test, y_test = x_test[test_filter], y_test[test_filter]\n"
   ]
  },
  {
   "cell_type": "code",
   "execution_count": 17,
   "id": "74681451",
   "metadata": {
    "scrolled": false
   },
   "outputs": [
    {
     "name": "stdout",
     "output_type": "stream",
     "text": [
      "\n",
      "n_neighbors=15.0\n",
      "[[0.96885457]\n",
      " [0.97091377]\n",
      " [0.97425997]\n",
      " [0.96885457]\n",
      " [0.97374517]\n",
      " [0.96962677]\n",
      " [0.96705277]\n",
      " [0.96602317]\n",
      " [0.96602317]]\n",
      "[[39.]\n",
      " [29.]\n",
      " [15.]\n",
      " [43.]\n",
      " [ 8.]\n",
      " [41.]\n",
      " [44.]\n",
      " [49.]\n",
      " [49.]]\n",
      "\n",
      "n_neighbors=17.0\n",
      "[[0.97425997]\n",
      " [0.96628057]\n",
      " [0.97503218]\n",
      " [0.96833977]\n",
      " [0.97168597]\n",
      " [0.96602317]\n",
      " [0.96602317]]\n",
      "[[16.]\n",
      " [47.]\n",
      " [17.]\n",
      " [40.]\n",
      " [28.]\n",
      " [49.]\n",
      " [49.]]\n",
      "\n",
      "n_neighbors=13.0\n",
      "[[0.97477477]\n",
      " [0.96962677]\n",
      " [0.96885457]\n",
      " [0.96628057]\n",
      " [0.96962677]\n",
      " [0.96602317]\n",
      " [0.96602317]]\n",
      "[[13.]\n",
      " [41.]\n",
      " [42.]\n",
      " [47.]\n",
      " [37.]\n",
      " [49.]\n",
      " [49.]]\n"
     ]
    }
   ],
   "source": [
    "np.random.seed(42)\n",
    "\n",
    "n_neighbors = tuple(np.arange(1,50,1, dtype=np.int))\n",
    "\n",
    "domain = [\n",
    "          {'name': 'n_neighbors', 'type': 'discrete', 'domain': n_neighbors},\n",
    "         ]\n",
    "\n",
    "def objective_function(x):\n",
    "    scores_list = []\n",
    "    param=x[0][0]\n",
    "    \n",
    "    model = KNeighborsClassifier(\n",
    "        n_neighbors = int(param), \n",
    "        n_jobs=-1)\n",
    "    \n",
    "    model.fit(x_train, y_train)\n",
    "    score = model.score(x_test, y_test)\n",
    "    return score\n",
    "\n",
    "acquisitions = ['MPI','EI','LCB']\n",
    "for aq in acquisitions:\n",
    "    opt = GPyOpt.methods.BayesianOptimization(f = objective_function,   # function to optimize\n",
    "                                                  domain = domain,         # box-constrains of the problem\n",
    "                                                  acquisition_type = aq ,      # Select acquisition function MPI, EI, LCB\n",
    "                                                 )\n",
    "    opt.acquisition.exploration_weight=0.5\n",
    "    opt.run_optimization(max_iter=10) \n",
    "\n",
    "    x_best = opt.X[np.argmax(opt.Y)] # argmin -> argmax\n",
    "    print()\n",
    "    print(\"n_neighbors=\" + str(x_best[0]))\n",
    "    print(opt.Y)\n",
    "    print(opt.X)"
   ]
  },
  {
   "cell_type": "code",
   "execution_count": 10,
   "id": "38246acc",
   "metadata": {},
   "outputs": [
    {
     "name": "stdout",
     "output_type": "stream",
     "text": [
      "0.8333333333333334\n"
     ]
    }
   ],
   "source": [
    "model = KNeighborsClassifier(\n",
    "        n_neighbors = 1, \n",
    "        n_jobs=-1)\n",
    "model.fit(x_train, y_train)\n",
    "print(model.score(x_test, y_test))"
   ]
  }
 ],
 "metadata": {
  "kernelspec": {
   "display_name": "Python [conda env:torch37]",
   "language": "python",
   "name": "conda-env-torch37-py"
  },
  "language_info": {
   "codemirror_mode": {
    "name": "ipython",
    "version": 3
   },
   "file_extension": ".py",
   "mimetype": "text/x-python",
   "name": "python",
   "nbconvert_exporter": "python",
   "pygments_lexer": "ipython3",
   "version": "3.7.9"
  }
 },
 "nbformat": 4,
 "nbformat_minor": 5
}
