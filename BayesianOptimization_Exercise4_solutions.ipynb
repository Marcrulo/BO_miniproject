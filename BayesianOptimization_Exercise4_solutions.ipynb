{
 "cells": [
  {
   "cell_type": "code",
   "execution_count": 1,
   "metadata": {
    "colab": {
     "base_uri": "https://localhost:8080/",
     "height": 367
    },
    "colab_type": "code",
    "id": "Q1wnryKmxkOz",
    "outputId": "f719230f-6b4c-4861-e404-884ecc7d57ec"
   },
   "outputs": [],
   "source": [
    "import sys\n",
    "#Install packages prefer conda if you are using anaconda otherwise try with pip, uncomment only if install is needed (if you use Google colab pip should work)\n",
    "\n",
    "#conda:\n",
    "#os.system('conda install GPy -c conda-forge')\n",
    "#os.system('conda install GPyOpt -c conda-forge')\n",
    "\n",
    "#pip:\n",
    "#!{sys.executable} -m pip install GPy\n",
    "#!{sys.executable} -m pip install GPyOpt\n",
    "import numpy as np\n",
    "import matplotlib.pyplot as plt\n",
    "import GPyOpt\n",
    "from torchvision import datasets, transforms, utils\n",
    "from sklearn.ensemble import RandomForestClassifier\n",
    "from sklearn.model_selection import ParameterSampler, RandomizedSearchCV, cross_val_score\n",
    "from scipy.stats import uniform\n",
    "import random\n",
    "\n",
    "np.random.seed(32)\n",
    "random.seed(32)"
   ]
  },
  {
   "cell_type": "markdown",
   "metadata": {
    "colab_type": "text",
    "id": "G6ZbPxoDxkPB"
   },
   "source": [
    "# Hyperparameters tuning using Bayesian Optimization with the GPyOpt library\n",
    "\n",
    "As you are going to see, the project for this first part of the course will be to use Bayesian Optimization to tune the hyperparameters of a Deep Neural Network. To do that you are going to use a library that is more optimized compare to the code from scratch that we have written before. We are going to use [GPyOPt](https://sheffieldml.github.io/GPyOpt/) developed by the Machine Learning group of the University of Sheffield and it is based on GPy, which is a framework for using Gaussian Process in Python.\n",
    "\n",
    "In this exercise you are going to use Bayesian Optimization to select the best hyperparameters of a random forest trained on part of the MNIST dataset. You are going also to compare it with respect to a random search on the hyperparameter space.\n"
   ]
  },
  {
   "cell_type": "code",
   "execution_count": 4,
   "metadata": {
    "colab": {},
    "colab_type": "code",
    "id": "uup6huN4xkPJ"
   },
   "outputs": [],
   "source": [
    "def load_MNIST():\n",
    "    '''\n",
    "    Function to load the MNIST training and test set with corresponding labels.\n",
    "\n",
    "    :return: training_examples, training_labels, test_examples, test_labels\n",
    "    '''\n",
    "\n",
    "    training_set = datasets.MNIST(root='./data', train=True, download=True, transform= None)\n",
    "    test_set = datasets.MNIST(root='./data', train=False, download=True, transform= None)\n",
    "\n",
    "    x_train = training_set.data.numpy().reshape(-1,28*28)\n",
    "    x_test = test_set.data.numpy().reshape(-1,28*28)\n",
    "\n",
    "    y_train = training_set.targets.numpy()\n",
    "    y_test = test_set.targets.numpy()\n",
    "\n",
    "    return x_train, y_train, x_test, y_test"
   ]
  },
  {
   "cell_type": "code",
   "execution_count": 5,
   "metadata": {
    "colab": {},
    "colab_type": "code",
    "id": "CIx5w0wjxkPR"
   },
   "outputs": [
    {
     "name": "stdout",
     "output_type": "stream",
     "text": [
      "Information about the new datasets\n",
      "Training set shape: (60000, 784)\n",
      "Test set shape (10000, 784)\n"
     ]
    }
   ],
   "source": [
    "## since training a random forest on the entire dataset takes some time\n",
    "## we can consider only few labels, like 3, 5, 8 and 9\n",
    "\n",
    "## we can load the training set and test set\n",
    "Xtrain, ytrain, Xtest, ytest = load_MNIST()\n",
    "\n",
    "## we use a mask to selects those subsets\n",
    "#train_filter = np.isin(ytrain, [3, 5, 8, 9])\n",
    "#test_filter = np.isin(ytest, [3, 5, 8, 9])\n",
    "\n",
    "# apply the mask to the entire dataset\n",
    "#Xtrain, ytrain = Xtrain[train_filter], ytrain[train_filter]\n",
    "#Xtest, ytest = Xtest[test_filter], ytest[test_filter]\n",
    "\n",
    "# print some information\n",
    "print('Information about the new datasets')\n",
    "print('Training set shape:', Xtrain.shape)\n",
    "print('Test set shape', Xtest.shape)"
   ]
  },
  {
   "cell_type": "markdown",
   "metadata": {
    "colab_type": "text",
    "id": "YLelVc36xkPa"
   },
   "source": [
    "## Random forest\n",
    "\n",
    "As you have seen in your Machine Learning course, there are a lot of hyperparameters to choose before training a Random Forest. If you look at the [sklearn documentation](https://scikit-learn.org/stable/modules/generated/sklearn.ensemble.RandomForestClassifier.html) you can notice all the paramters. For this exercise we will focus only on the following four hyperparameters:\n",
    "\n",
    "1. **n_estimators**: the number of decision trees that are in the forest;\n",
    "2. **criterion**: the criterion to evaluate the split. We should decide between *Gini impurity* (`gini`) and *information gain* (`entropy`);\n",
    "3. **max_depth**: Maximum depth of the trees. If None, the tree expands until we have a element in all the leaves or  until all leaves contain less than min_samples_split samples.\n",
    "4. **max_features**: The number of features to consider when looking for the best split. We have to choose among `'sqrt'` where we consider `sqrt(n_features)`, `'log2'` where we consider `log2(n_features)`. It is possible to use `None` where we consider all the features, but it makes everything super slow, so we are avoiding it.\n",
    "\n",
    "Remember that when we are using Random Forest we can avoid running the cross-validation to get the validation error as approximation of the test error, but instead we can use the *out of bag* error to get an approximation of the test error we are going to get when we consider unseen example. \n",
    "\n",
    "<font color='blue'> Tasks:\n",
    "1. You should define a `RandomForestClassifier` with default parameters, and compute the *out_of_bag* error (you should use `oob_score=True` when you define the classifier) and then the test error. This would be the baseline for the experiment."
   ]
  },
  {
   "cell_type": "code",
   "execution_count": 6,
   "metadata": {
    "colab": {},
    "colab_type": "code",
    "id": "gKz2Nq5OxkPc"
   },
   "outputs": [
    {
     "name": "stdout",
     "output_type": "stream",
     "text": [
      "Default model out of bag error 0.9657833333333333\n",
      "Default model test accuracy 0.9696\n"
     ]
    }
   ],
   "source": [
    "model = RandomForestClassifier(oob_score=True)\n",
    "model.fit(Xtrain, ytrain)\n",
    "print('Default model out of bag error', model.oob_score_)\n",
    "print('Default model test accuracy', model.score(Xtest, ytest))"
   ]
  },
  {
   "cell_type": "markdown",
   "metadata": {
    "colab_type": "text",
    "id": "D2DIwTl5xkPk"
   },
   "source": [
    "### Random search \n",
    "\n",
    "A possible way to find the best hyperparameters is to use random search over the parameter space. To perform this operation we can use `RandomizedSearchCV`. You can look at the documentation [here](https://scikit-learn.org/stable/modules/generated/sklearn.model_selection.RandomizedSearchCV.html). However, since we do not need cross-validation for Random Forests, we can use `ParameterSampler` to sample random parameters from our parameter space. Look at the documentation [here](https://scikit-learn.org/stable/modules/generated/sklearn.model_selection.ParameterSampler.html#sklearn.model_selection.ParameterSampler) To be able to use this method you should first define a dictionary of the hyperparameters you want to optimize, in this case the four we mentioned above, and then decide a way to evaluate the model and how many folds for the cross-validation. The dictionary is of the form:\n",
    "\n",
    "```python\n",
    "params = {\"name_params\": uniform(0, 1), # if it is continuous between 0 and 1\n",
    "           \"name_params2\": range(1,50), # if it is discrete but integer\n",
    "           \"name_params3\": ['name1', 'name2']} # if it is discrete but string`\n",
    "```\n",
    "\n",
    "<font color='blue'> Tasks:\n",
    "\n",
    "1. <font color='blue'> Crete the dictionary of the hyperparameters, we recommend keeping the value of the number of trees less than 100 otherwise it takes a very long time. You can try to increase it at home, but it will likely not be possible in the exercise session as you would be stuck for some time. After that, you can use the dictionary to create a random hyperparameter using `ParameterSampler`. The `ParameterSampler` call is already provided.\n",
    "\n",
    "2. <font color='blue'> Using the parameters returned by the `ParameterSampler` you should fit a random forest, and for each iteration you should store the best value of the `model.oob_score_` you get. **HINT:** You can access the hyperparameters value by the name you used in the defined dictionary. (The whole process would take like 5/10 mins)"
   ]
  },
  {
   "cell_type": "code",
   "execution_count": 7,
   "metadata": {
    "colab": {},
    "colab_type": "code",
    "id": "tQP9z8AOxkPm"
   },
   "outputs": [
    {
     "name": "stdout",
     "output_type": "stream",
     "text": [
      "Param list\n",
      "[{'n_estimators': 76, 'max_features': 'log2', 'max_depth': 25, 'criterion': 'entropy'}, {'n_estimators': 80, 'max_features': 'log2', 'max_depth': 45, 'criterion': 'gini'}, {'n_estimators': 74, 'max_features': 'log2', 'max_depth': 55, 'criterion': 'entropy'}, {'n_estimators': 35, 'max_features': 'log2', 'max_depth': 40, 'criterion': 'gini'}, {'n_estimators': 41, 'max_features': 'log2', 'max_depth': 30, 'criterion': 'entropy'}, {'n_estimators': 37, 'max_features': 'log2', 'max_depth': 10, 'criterion': 'entropy'}, {'n_estimators': 76, 'max_features': 'sqrt', 'max_depth': 45, 'criterion': 'entropy'}, {'n_estimators': 53, 'max_features': 'sqrt', 'max_depth': 15, 'criterion': 'gini'}, {'n_estimators': 44, 'max_features': 'log2', 'max_depth': 35, 'criterion': 'entropy'}, {'n_estimators': 11, 'max_features': 'log2', 'max_depth': 20, 'criterion': 'gini'}, {'n_estimators': 50, 'max_features': 'sqrt', 'max_depth': 25, 'criterion': 'entropy'}, {'n_estimators': 44, 'max_features': 'sqrt', 'max_depth': 55, 'criterion': 'entropy'}, {'n_estimators': 98, 'max_features': 'log2', 'max_depth': 30, 'criterion': 'gini'}, {'n_estimators': 59, 'max_features': 'sqrt', 'max_depth': 40, 'criterion': 'gini'}, {'n_estimators': 10, 'max_features': 'sqrt', 'max_depth': 10, 'criterion': 'gini'}, {'n_estimators': 29, 'max_features': 'sqrt', 'max_depth': 35, 'criterion': 'gini'}, {'n_estimators': 24, 'max_features': 'log2', 'max_depth': 50, 'criterion': 'entropy'}, {'n_estimators': 14, 'max_features': 'log2', 'max_depth': 20, 'criterion': 'entropy'}, {'n_estimators': 84, 'max_features': 'sqrt', 'max_depth': 40, 'criterion': 'gini'}, {'n_estimators': 26, 'max_features': 'sqrt', 'max_depth': 25, 'criterion': 'entropy'}]\n",
      "0\n",
      "{'n_estimators': 76, 'max_features': 'log2', 'max_depth': 25, 'criterion': 'entropy'}\n",
      "OOB found: 0.95735\n",
      "It took 4.762348413467407 seconds\n",
      "1\n",
      "{'n_estimators': 80, 'max_features': 'log2', 'max_depth': 45, 'criterion': 'gini'}\n",
      "OOB found: 0.9585333333333333\n",
      "It took 4.671390533447266 seconds\n",
      "2\n",
      "{'n_estimators': 74, 'max_features': 'log2', 'max_depth': 55, 'criterion': 'entropy'}\n",
      "OOB found: 0.9577333333333333\n",
      "It took 4.818859577178955 seconds\n",
      "3\n",
      "{'n_estimators': 35, 'max_features': 'log2', 'max_depth': 40, 'criterion': 'gini'}\n",
      "OOB found: 0.94165\n",
      "It took 2.3649120330810547 seconds\n",
      "4\n",
      "{'n_estimators': 41, 'max_features': 'log2', 'max_depth': 30, 'criterion': 'entropy'}\n",
      "OOB found: 0.94905\n",
      "It took 2.8824479579925537 seconds\n",
      "5\n",
      "{'n_estimators': 37, 'max_features': 'log2', 'max_depth': 10, 'criterion': 'entropy'}\n",
      "OOB found: 0.91785\n",
      "It took 2.0417587757110596 seconds\n",
      "6\n",
      "{'n_estimators': 76, 'max_features': 'sqrt', 'max_depth': 45, 'criterion': 'entropy'}\n",
      "OOB found: 0.9623\n",
      "It took 8.38350796699524 seconds\n",
      "7\n",
      "{'n_estimators': 53, 'max_features': 'sqrt', 'max_depth': 15, 'criterion': 'gini'}\n",
      "OOB found: 0.95715\n",
      "It took 5.120761394500732 seconds\n",
      "8\n",
      "{'n_estimators': 44, 'max_features': 'log2', 'max_depth': 35, 'criterion': 'entropy'}\n",
      "OOB found: 0.9488\n",
      "It took 2.7635111808776855 seconds\n",
      "9\n",
      "{'n_estimators': 11, 'max_features': 'log2', 'max_depth': 20, 'criterion': 'gini'}\n",
      "OOB found: 0.8665166666666667\n",
      "It took 0.7747867107391357 seconds\n",
      "10\n",
      "{'n_estimators': 50, 'max_features': 'sqrt', 'max_depth': 25, 'criterion': 'entropy'}\n",
      "OOB found: 0.95825\n",
      "It took 5.677595138549805 seconds\n",
      "11\n",
      "{'n_estimators': 44, 'max_features': 'sqrt', 'max_depth': 55, 'criterion': 'entropy'}\n",
      "OOB found: 0.9572666666666667\n",
      "It took 5.1345109939575195 seconds\n",
      "12\n",
      "{'n_estimators': 98, 'max_features': 'log2', 'max_depth': 30, 'criterion': 'gini'}\n",
      "OOB found: 0.9606\n",
      "It took 5.446579217910767 seconds\n",
      "13\n",
      "{'n_estimators': 59, 'max_features': 'sqrt', 'max_depth': 40, 'criterion': 'gini'}\n",
      "OOB found: 0.9606\n",
      "It took 6.29688835144043 seconds\n",
      "14\n",
      "{'n_estimators': 10, 'max_features': 'sqrt', 'max_depth': 10, 'criterion': 'gini'}\n",
      "OOB found: 0.8694833333333334\n",
      "It took 1.0200042724609375 seconds\n",
      "15\n",
      "{'n_estimators': 29, 'max_features': 'sqrt', 'max_depth': 35, 'criterion': 'gini'}\n",
      "OOB found: 0.9465166666666667\n",
      "It took 3.188004493713379 seconds\n",
      "16\n",
      "{'n_estimators': 24, 'max_features': 'log2', 'max_depth': 50, 'criterion': 'entropy'}\n",
      "OOB found: 0.9284166666666667\n",
      "It took 1.5778906345367432 seconds\n",
      "17\n",
      "{'n_estimators': 14, 'max_features': 'log2', 'max_depth': 20, 'criterion': 'entropy'}\n",
      "OOB found: 0.8924833333333333\n",
      "It took 1.038515567779541 seconds\n",
      "18\n",
      "{'n_estimators': 84, 'max_features': 'sqrt', 'max_depth': 40, 'criterion': 'gini'}\n",
      "OOB found: 0.9635666666666667\n",
      "It took 8.710194826126099 seconds\n",
      "19\n",
      "{'n_estimators': 26, 'max_features': 'sqrt', 'max_depth': 25, 'criterion': 'entropy'}\n",
      "OOB found: 0.9448333333333333\n",
      "It took 3.1078028678894043 seconds\n"
     ]
    }
   ],
   "source": [
    "import time \n",
    "\n",
    "# hyperparams dictionary \n",
    "domain = {\"n_estimators\": range(1, 101), \n",
    "          \"criterion\": ['gini', 'entropy'],\n",
    "          \"max_depth\": range(10, 60, 5),\n",
    "          \"max_features\": ['sqrt', 'log2']}\n",
    "#rs = RandomizedSearchCV(model, param_distributions=domain, cv=3, verbose =2, n_iter=10)\n",
    "#rs.fit(Xtrain, ytrain)\n",
    "\n",
    "# create the ParameterSampler\n",
    "param_list = list(ParameterSampler(domain, n_iter=20, random_state=32))\n",
    "print('Param list')\n",
    "print(param_list)\n",
    "#rounded_list = [dict((k,v) for (k, v) in d.items()) for d in param_list]\n",
    "\n",
    "#print('Random parameters we are going to consider')\n",
    "#print(rounded_list)\n",
    "\n",
    "## now we can train the random forest using these parameters tuple, and for\n",
    "## each iteration we store the best value of the oob\n",
    "\n",
    "current_best_oob = 0\n",
    "iteration_best_oob = 0 \n",
    "max_oob_per_iteration = []\n",
    "i = 0\n",
    "for params in param_list:\n",
    "    print(i)\n",
    "    print(params)\n",
    "    model = RandomForestClassifier(n_estimators= params['n_estimators'], criterion = params['criterion'], \n",
    "                           max_depth = params['max_depth'], max_features = params['max_features'], oob_score=True, n_jobs=-1)\n",
    "\n",
    "    start = time.time()\n",
    "    model.fit(Xtrain, ytrain)\n",
    "    end = time.time()\n",
    "    model_oob = model.oob_score_\n",
    "    print('OOB found:', model_oob)\n",
    "    if model_oob > current_best_oob:\n",
    "        current_best_oob = model_oob\n",
    "        iteration_best_oob = i\n",
    "    \n",
    "    max_oob_per_iteration.append(current_best_oob)\n",
    "    i += 1\n",
    "    print(f'It took {end - start} seconds')\n",
    "    "
   ]
  },
  {
   "cell_type": "markdown",
   "metadata": {
    "colab_type": "text",
    "id": "4NmwnVJ2xkPt"
   },
   "source": [
    "### Bayesian Optimization\n",
    "\n",
    "The procedure we are interested in, instead, is Bayesian Optimization. As before, also for GPyOpt, we should start by defining the set of hyperparameters you want to optimize. If some hyperparameters are discrete and represented by a string, you should integer instead and change them when you are initializing the classifier. The dictionary should have this form `{'name': 'name_of_params', 'type': 'type_of_variable', 'domain': domain_given_as_tuple}`. Note that the domain should specify as tuple. An example is given by\n",
    "\n",
    "```python\n",
    "params = [{'name': 'var_1', 'type': 'continuous', 'domain': (0,10)},\n",
    "            {'name': 'var_2', 'type': 'discrete', 'domain': (0,5,10)},\n",
    "            {'name': 'var_3', 'type': 'categorical', 'domain': (0,1)}]`\n",
    "```\n",
    "\n",
    "In the example above, suppose that `'var_3'` is usually used as string, where `0 = 'l1'` and `1 = 'l2'`, for example.\n",
    "If you want to define a large discrete interval, you should define the tuple as `tuple(np.arange(1,100,1, dtype= np.int))`. \n",
    "\n",
    "The second ingredient we should define is the objective function we want to maximize. Since GPyOpt minimize things, when you are returning the value of the objective you return it negated. This function, usually defined as `objective_function(x)`, takes a general parameter `x`. This represents all the parameter we need. Therefore, when we define the function, we should collect the parameters by doing `param = x[0]`. Then we are able to pass the parameters to the classifier. In the example above we will have that `param[0]` is the 'var_1', `param[0]` is 'var_2', whereas, since 'var_3' is usually a string we should get back the string value, therefore `if param[2] == 0: var_3 = l1 else: var_3 = 'l2'`.\n",
    "Note that by default GPyOpt initializes with 5 points and considers Bayesian optimization after this, therefore max_iter=15 will give you a total of 20 function evaluation. \n",
    "In a general way, the scheme for the objective function is similar to:\n",
    "\n",
    "```python\n",
    "def objective_function(x):\n",
    "\n",
    "    param = x[0]\n",
    "    \n",
    "    if param[2] == 1:\n",
    "        val_3 = 'l1'\n",
    "    else:\n",
    "        val_3 = 'l2'\n",
    "        \n",
    "    model = your_model(param[0],param[1],val_3)\n",
    "    model.fit(X,y)\n",
    "    \n",
    "    ## then you will compute the measure you want to maximize\n",
    "    ## usually you should consider a validation set\n",
    "    ## in case of random forest you return the - oob score\n",
    "    return - model.score(Xvalid, yvalid)\n",
    "```\n",
    "\n",
    "In case of random forest, you should return the `oob_score` and not the validation score. If you are going to use other models you should consider the validation set, instead.\n",
    "\n",
    "When you have these two ingredients, you should create an Bayesian Optimization instancer using the following function `GPyOpt.methods.BayesianOptimization`, see the complete description [here](https://gpyopt.readthedocs.io/en/latest/GPyOpt.methods.html). Run it calling the `run_optimization` function of this instance, documentation [here](https://gpyopt.readthedocs.io/en/latest/GPyOpt.core.html).\n",
    "\n",
    "At the end of the optimization, you can access the array of the best parameters by `x_best = opt.X[np.argmin(opt.Y)]`. You can also collect the best `oob_score` per iteration using \n",
    "`y_bo = np.maximum.accumulate(-opt.Y).ravel()`.\n",
    "\n",
    "\n",
    "<font color='blue'> Tasks:\n",
    "\n",
    "1. <font color='blue'>You should define all the ingredients needed for GPyOpt: 1) define the dictionary of hyperparameters, following the GPyOpt rules; 2) define the objective function you want to optimize. GPyOpt usually minimize (there is a parameter called maximize but it appears to have no effect), therefore, since in your setting you want to maximize the oob_score, you should return the negative oob_score; 3) run the optimization. When you create the `GPyOpt.methods.BayesianOptimization` instance you should define the following parameters: `f`,`domain`, `acquisition_type`, `exploration_weight`. The documentation for the GPyOpt package is quite limited and it is quite unclear to define how to define certain parameter, so elaborate hints are given here. The fitting procedure should take $\\sim 10$ minutes. Do not worry about the warning \"The set cost function is ignored! LCB acquisition does not make sense with cost.\" which might occur when using LCB. From discussions on github it appears to be a known error and might be fixed in the lastest git master branch.\n",
    "\n",
    "2. <font color='blue'>In the same plot, show the best `oob_score` per iteration you obtain using the random search and the bayesian optimization. What do you see?\n",
    "\n",
    "    "
   ]
  },
  {
   "cell_type": "code",
   "execution_count": 8,
   "metadata": {
    "colab": {},
    "colab_type": "code",
    "id": "o2TTDArnxkPv"
   },
   "outputs": [
    {
     "name": "stdout",
     "output_type": "stream",
     "text": [
      "[27. 50.  0.  0.]\n",
      "0.9324166666666667\n",
      "[80. 40.  1.  1.]\n",
      "0.9633666666666667\n",
      "[99. 10.  0.  1.]\n",
      "0.9343333333333333\n",
      "[32. 20.  1.  0.]\n",
      "0.9502833333333334\n",
      "[76. 20.  1.  1.]\n",
      "0.9633\n",
      "[80. 40.  1.  1.]\n",
      "0.9635333333333334\n",
      "[79. 40.  1.  0.]\n",
      "0.9637666666666667\n",
      "[68. 30.  1.  1.]\n",
      "0.9621\n",
      "[88. 70.  1.  0.]\n",
      "0.9647\n",
      "[100.  90.   0.   0.]\n",
      "0.961\n",
      "[72. 90.  1.  0.]\n",
      "0.96335\n",
      "[62. 10.  1.  0.]\n",
      "0.9367833333333333\n",
      "[78. 30.  1.  0.]\n",
      "0.9635666666666667\n",
      "[74. 60.  1.  0.]\n",
      "0.9635333333333334\n",
      "[78. 80.  0.  1.]\n",
      "0.9582666666666667\n",
      "[93. 60.  1.  0.]\n",
      "0.9653666666666667\n",
      "[ 57. 100.   1.   0.]\n",
      "0.96085\n",
      "[ 80. 100.   1.   0.]\n",
      "0.9639\n",
      "[100.  70.   1.   1.]\n",
      "0.9645833333333333\n",
      "[  1. 100.   1.   1.]\n",
      "0.36711666666666665\n",
      "The best parameters obtained: n_estimators=93.0, max_depth=60.0, max_features=1.0, criterion=0.0\n"
     ]
    }
   ],
   "source": [
    "## define the domain of the considered parameters\n",
    "n_estimators = tuple(np.arange(1,101,1, dtype= np.int))\n",
    "# print(n_estimators)\n",
    "max_depth = tuple(np.arange(10,110,10, dtype= np.int))\n",
    "# max_features = ('log2', 'sqrt', None)\n",
    "max_features = (0, 1)\n",
    "# criterion = ('gini', 'entropy')\n",
    "criterion = (0, 1)\n",
    "\n",
    "\n",
    "# define the dictionary for GPyOpt\n",
    "domain = [{'name': 'n_estimators', 'type': 'discrete', 'domain':n_estimators},\n",
    "          {'name': 'max_depth', 'type': 'discrete', 'domain': max_depth},\n",
    "          {'name': 'max_features', 'type': 'categorical', 'domain': max_features},\n",
    "          {'name': 'criterion', 'type': 'categorical', 'domain': criterion}]\n",
    "\n",
    "\n",
    "## we have to define the function we want to maximize --> validation accuracy, \n",
    "## note it should take a 2D ndarray but it is ok that it assumes only one point\n",
    "## in this setting\n",
    "def objective_function(x): \n",
    "    #print(x)\n",
    "    # we have to handle the categorical variables that is convert 0/1 to labels\n",
    "    # log2/sqrt and gini/entropy\n",
    "    param = x[0]\n",
    "    print(param)\n",
    "    # we have to handle the categorical variables\n",
    "    if param[2] == 0:\n",
    "        max_f = 'log2'\n",
    "    elif param[2] == 1:\n",
    "        max_f = 'sqrt'\n",
    "    else:\n",
    "        max_f = None\n",
    "\n",
    "    if param[3] == 0:\n",
    "        crit = 'gini'\n",
    "    else:\n",
    "        crit = 'entropy'\n",
    "\n",
    "    #create the model\n",
    "    model = RandomForestClassifier(n_estimators = int(param[0]), max_depth = int(param[1]), max_features= max_f, criterion = crit, oob_score=True, n_jobs=-1)\n",
    "    \n",
    "    # fit the model \n",
    "    model.fit(Xtrain, ytrain)\n",
    "    print(model.oob_score_)\n",
    "    return - model.oob_score_\n",
    "\n",
    "\n",
    "opt = GPyOpt.methods.BayesianOptimization(f = objective_function,   # function to optimize\n",
    "                                              domain = domain,         # box-constrains of the problem\n",
    "                                              acquisition_type = 'EI' ,      # Select acquisition function MPI, EI, LCB\n",
    "                                             )\n",
    "opt.acquisition.exploration_weight=0.5\n",
    "\n",
    "opt.run_optimization(max_iter = 15) \n",
    "\n",
    "x_best = opt.X[np.argmin(opt.Y)]\n",
    "print(\"The best parameters obtained: n_estimators=\" + str(x_best[0]) + \", max_depth=\" + str(x_best[1]) + \", max_features=\" + str(\n",
    "    x_best[2])  + \", criterion=\" + str(\n",
    "    x_best[3]))"
   ]
  },
  {
   "cell_type": "code",
   "execution_count": 9,
   "metadata": {
    "colab": {},
    "colab_type": "code",
    "id": "1DvhNlzcxkP2"
   },
   "outputs": [
    {
     "data": {
      "image/png": "[encoded data removed]",
      "text/plain": [
       "<Figure size 432x288 with 1 Axes>"
      ]
     },
     "metadata": {
      "needs_background": "light"
     },
     "output_type": "display_data"
    }
   ],
   "source": [
    "## comparison between random search and bayesian optimization\n",
    "## we can plot the maximum oob per iteration of the sequence\n",
    "\n",
    "# collect the maximum each iteration of BO, note that it is also provided by GPOpt in Y_Best\n",
    "y_bo = np.maximum.accumulate(-opt.Y).ravel()\n",
    "# define iteration number\n",
    "xs = np.arange(1,21,1)\n",
    "\n",
    "plt.plot(xs, max_oob_per_iteration, 'o-', color = 'red', label='Random Search')\n",
    "plt.plot(xs, y_bo, 'o-', color = 'blue', label='Bayesian Optimization')\n",
    "plt.legend()\n",
    "plt.xlabel('Iterations')\n",
    "plt.ylabel('Out of bag error')\n",
    "plt.title('Comparison between Random Search and Bayesian Optimization')\n",
    "plt.show()"
   ]
  },
  {
   "cell_type": "markdown",
   "metadata": {
    "colab_type": "text",
    "id": "g6dHDP0rU-5r"
   },
   "source": [
    "# [OPTIONAL] Investigate the acquisition function (not part of the exam)\n",
    "<br>\n",
    "<font color='blue'>\n",
    "1. <font color='blue'> Investigate the dimensionality of the GP (look at the model subclass), how many dimensions are there? Why?\n",
    " \n",
    "2.<font color='blue'> Take a look at the acqusition function, as this is more than 2 dimensional in this case it is not trivial to plot it, therefore keep the categorical variables fixed at some value that you decide and evaluate the acquisition function on a grid for the remaining two variables. The acquisition function can be evaluated using opt.acquisition.acquisition_function and you can create the grid using np.meshgrid. "
   ]
  },
  {
   "cell_type": "code",
   "execution_count": null,
   "metadata": {
    "colab": {},
    "colab_type": "code",
    "id": "tQ666LjBQZPG"
   },
   "outputs": [],
   "source": [
    "#We start by taking a look a the model subclass of our Bayesian optimization object\n",
    "print(opt.model.input_dim)\n",
    "#so there is 6 dimensions, that is 1 for each of n_estimators and depth which are discrete variables.\n",
    "# the remaining 4 is because one-out-of-K encoding is using for the categorical variables max_features and criterion\n",
    "#we can also look at kernel parameters\n",
    "print(opt.model.get_model_parameters_names())\n",
    "#and get the current fitted values\n",
    "print(opt.model.get_model_parameters())\n",
    "#To get a plot of the acquisition function we use the function opt.acquisition.acquisition_function\n",
    "#first we define a sensible grid for the first to parameters \n",
    "#indexing='ij' ensures that x/y axes are not flipped (which is default):\n",
    "#we also add two extra axes for the categorical varibles and here fix these to 0 ('log2' and 'gini')\n",
    "#note that the acqusition function can actually take any value not only integers as it lives in the GP space (here 0.5 intervals)\n",
    "#and it is quite fast to evaluate - here in 40000 points\n",
    "n_feat = np.arange(1,101,0.5)\n",
    "max_d = np.arange(10,110,0.5)\n",
    "pgrid = np.array(np.meshgrid(n_feat, max_d,[1],[0],[1],[0],indexing='ij'))\n",
    "print(pgrid.reshape(6,-1).T.shape)\n",
    "#we then unfold the 4D array and simply pass it to the acqusition function\n",
    "acq_img = opt.acquisition.acquisition_function(pgrid.reshape(6,-1).T)\n",
    "#it is typical to scale this between 0 and 1:\n",
    "acq_img = (-acq_img - np.min(-acq_img))/(np.max(-acq_img - np.min(-acq_img)))\n",
    "#then fold it back into an image and plot\n",
    "acq_img = acq_img.reshape(pgrid[0].shape[:2])\n",
    "plt.figure()\n",
    "plt.imshow(acq_img.T, origin='lower',extent=[n_feat[0],n_feat[-1],max_d[0],max_d[-1]])\n",
    "plt.colorbar()\n",
    "plt.xlabel('n_features')\n",
    "plt.ylabel('max_depth')\n",
    "plt.title('Acquisition function');"
   ]
  }
 ],
 "metadata": {
  "@webio": {
   "lastCommId": null,
   "lastKernelId": null
  },
  "colab": {
   "collapsed_sections": [],
   "name": "Lecture_2_Exercise2.ipynb",
   "provenance": []
  },
  "kernelspec": {
   "display_name": "Python [conda env:torch37]",
   "language": "python",
   "name": "conda-env-torch37-py"
  },
  "language_info": {
   "codemirror_mode": {
    "name": "ipython",
    "version": 3
   },
   "file_extension": ".py",
   "mimetype": "text/x-python",
   "name": "python",
   "nbconvert_exporter": "python",
   "pygments_lexer": "ipython3",
   "version": "3.7.9"
  }
 },
 "nbformat": 4,
 "nbformat_minor": 1
}
