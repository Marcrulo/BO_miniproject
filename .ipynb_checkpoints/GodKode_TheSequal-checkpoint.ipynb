{
 "cells": [
  {
   "cell_type": "code",
   "execution_count": 22,
   "id": "4df22f14",
   "metadata": {},
   "outputs": [],
   "source": [
    "import pandas as pd\n",
    "import numpy as np\n",
    "import matplotlib.pyplot as plt\n",
    "import seaborn as sns\n",
    "from sklearn.neighbors import KNeighborsClassifier\n",
    "from sklearn.metrics import classification_report\n",
    "from sklearn.model_selection import train_test_split\n",
    "from sklearn.metrics import roc_auc_score\n",
    "from sklearn.model_selection import GridSearchCV\n",
    "\n",
    "#from sklearn import datasets\n",
    "from torchvision import datasets\n",
    "from sklearn.model_selection import ParameterSampler, RandomizedSearchCV, cross_val_score\n",
    "from sklearn import metrics\n",
    "import GPyOpt\n",
    "import GPy"
   ]
  },
  {
   "cell_type": "code",
   "execution_count": 18,
   "id": "d920bd0e",
   "metadata": {},
   "outputs": [],
   "source": [
    "def load_MNIST():\n",
    "\n",
    "    # we want to flat the examples\n",
    "\n",
    "    training_set = datasets.MNIST(root='./data', train=True, download=True, transform= None)\n",
    "    test_set = datasets.MNIST(root='./data', train=False, download=True, transform= None)\n",
    "\n",
    "    x_train = training_set.data.numpy().reshape(-1,28*28)\n",
    "    x_test = test_set.data.numpy().reshape(-1,28*28)\n",
    "\n",
    "    y_train = training_set.targets.numpy()\n",
    "    y_test = test_set.targets.numpy()\n",
    "\n",
    "    return x_train, y_train, x_test, y_test\n",
    "\n",
    "## we can load the training set and test set\n",
    "x_train, y_train, x_test, y_test = load_MNIST()\n",
    "\n",
    "## we use a mask to selects those subsets\n",
    "train_filter = np.isin(y_train, [3, 5])\n",
    "test_filter = np.isin(y_test, [3, 5])\n",
    "\n",
    "# apply the mask to the entire dataset\n",
    "x_train, y_train = x_train[train_filter], y_train[train_filter]\n",
    "x_test, y_test = x_test[test_filter], y_test[test_filter]\n"
   ]
  },
  {
   "cell_type": "code",
   "execution_count": 24,
   "id": "ae0470fe",
   "metadata": {},
   "outputs": [],
   "source": [
    "?GPy.kern.RBF"
   ]
  },
  {
   "cell_type": "code",
   "execution_count": null,
   "id": "beaf7b3e",
   "metadata": {
    "scrolled": false
   },
   "outputs": [
    {
     "name": "stdout",
     "output_type": "stream",
     "text": [
      "\n",
      "n_neighbors=3.0\n",
      "[[0.98422713]\n",
      " [0.98370137]\n",
      " [0.98002103]\n",
      " [0.98422713]\n",
      " [0.98422713]]\n",
      "[[3.]\n",
      " [4.]\n",
      " [1.]\n",
      " [3.]\n",
      " [3.]]\n"
     ]
    }
   ],
   "source": [
    "np.random.seed(42)\n",
    "\n",
    "n_neighbors = tuple(np.arange(1,5,1, dtype=np.int))\n",
    "\n",
    "domain = [\n",
    "          {'name': 'n_neighbors', 'type': 'discrete', 'domain': n_neighbors},\n",
    "         ]\n",
    "\n",
    "def objective_function(x):\n",
    "    scores_list = []\n",
    "    param=x[0][0]\n",
    "    \n",
    "    model = KNeighborsClassifier(\n",
    "        n_neighbors = int(param), \n",
    "        n_jobs=-1)\n",
    "    \n",
    "    model.fit(x_train, y_train)\n",
    "    score = model.score(x_test, y_test)\n",
    "    return score\n",
    "\n",
    "kernel = GPy.kern.RBF(1, variance=1, lengthscale=5)\n",
    "acquisitions = ['MPI','EI','LCB']\n",
    "for aq in acquisitions:\n",
    "    opt = GPyOpt.methods.BayesianOptimization(f = objective_function,   # function to optimize\n",
    "                                                  domain = domain,         # box-constrains of the problem\n",
    "                                                  acquisition_type = aq ,      # Select acquisition function MPI, EI, LCB\n",
    "                                                  kernel=kernel)\n",
    "    opt.acquisition.exploration_weight=0.5\n",
    "    opt.run_optimization(max_iter=5) \n",
    "\n",
    "    x_best = opt.X[np.argmax(opt.Y)] # argmin -> argmax\n",
    "    print()\n",
    "    print(\"n_neighbors=\" + str(x_best[0]))\n",
    "    print(opt.Y)\n",
    "    print(opt.X)"
   ]
  },
  {
   "cell_type": "code",
   "execution_count": 21,
   "id": "53ec5474",
   "metadata": {},
   "outputs": [
    {
     "name": "stdout",
     "output_type": "stream",
     "text": [
      "0.9842271293375394\n"
     ]
    }
   ],
   "source": [
    "model = KNeighborsClassifier(\n",
    "        n_neighbors = 3, \n",
    "        n_jobs=-1)\n",
    "model.fit(x_train, y_train)\n",
    "print(model.score(x_test, y_test))"
   ]
  }
 ],
 "metadata": {
  "kernelspec": {
   "display_name": "Python [conda env:torch37]",
   "language": "python",
   "name": "conda-env-torch37-py"
  },
  "language_info": {
   "codemirror_mode": {
    "name": "ipython",
    "version": 3
   },
   "file_extension": ".py",
   "mimetype": "text/x-python",
   "name": "python",
   "nbconvert_exporter": "python",
   "pygments_lexer": "ipython3",
   "version": "3.7.9"
  }
 },
 "nbformat": 4,
 "nbformat_minor": 5
}
