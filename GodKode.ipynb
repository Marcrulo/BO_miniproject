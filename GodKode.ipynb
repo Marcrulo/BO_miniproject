{
 "cells": [
  {
   "cell_type": "code",
   "execution_count": 45,
   "metadata": {},
   "outputs": [],
   "source": [
    "import pandas as pd\n",
    "import numpy as np\n",
    "import matplotlib.pyplot as plt\n",
    "import seaborn as sns\n",
    "from sklearn.neighbors import KNeighborsClassifier\n",
    "from sklearn.metrics import classification_report\n",
    "from sklearn.model_selection import train_test_split\n",
    "from sklearn.metrics import roc_auc_score\n",
    "from sklearn.model_selection import GridSearchCV\n",
    "\n",
    "from sklearn import datasets\n",
    "#from torchvision import datasets\n",
    "from sklearn.model_selection import ParameterSampler, RandomizedSearchCV, cross_val_score\n",
    "from sklearn import metrics\n",
    "import GPyOpt\n"
   ]
  },
  {
   "cell_type": "code",
   "execution_count": 46,
   "metadata": {},
   "outputs": [
    {
     "name": "stdout",
     "output_type": "stream",
     "text": [
      "(178, 13) (178,)\n"
     ]
    }
   ],
   "source": [
    "mnist = datasets.load_wine()\n",
    "X = mnist['data']\n",
    "y = mnist['target']\n",
    "print(X.shape, y.shape)"
   ]
  },
  {
   "cell_type": "code",
   "execution_count": 47,
   "metadata": {},
   "outputs": [
    {
     "name": "stdout",
     "output_type": "stream",
     "text": [
      "[0 0 0 2 2 0 0 1 1 0 1 2 0 2 1 1 1 0 0 1 1 1 2 2 0 2 1 1 1 0 2 1 1 0 1 1 1\n",
      " 0 1 2 0 0 1 1 2 2 2 1 0 0 2 0 0 1 0 1 0 1 2 2 1 1 1 1 1 0 2 2 1 1 1 0 0 1\n",
      " 0 0 0 1 1 2 2 0 2 1 2 0 2 2 1 0 1 0 0 1 1 0 1 1 2 2 0 1 0 2 1 2 1 1 1 1 0\n",
      " 2 0 2 1 0 2 0 1 0 2 0 0 2 0 1 0 0 2 0 0 1 1 1 0 2 0 1 1 1 2 1]\n",
      "              precision    recall  f1-score   support\n",
      "\n",
      "           0       0.71      1.00      0.83        10\n",
      "           1       0.59      0.77      0.67        13\n",
      "           2       0.60      0.23      0.33        13\n",
      "\n",
      "    accuracy                           0.64        36\n",
      "   macro avg       0.63      0.67      0.61        36\n",
      "weighted avg       0.63      0.64      0.59        36\n",
      "\n"
     ]
    }
   ],
   "source": [
    "#Create KNN Object.\n",
    "knn = KNeighborsClassifier()\n",
    "\n",
    "#Split data into training and testing.\n",
    "x_train, x_test, y_train, y_test = train_test_split(X, y, test_size=0.2, random_state=4)\n",
    "\n",
    "print(y_train)\n",
    "\n",
    "#Training the model.\n",
    "knn.fit(x_train, y_train)\n",
    "\n",
    "#Predict test data set.\n",
    "y_pred = knn.predict(x_test)\n",
    "\n",
    "#Checking performance our model with classification report.\n",
    "print(classification_report(y_test, y_pred))"
   ]
  },
  {
   "cell_type": "code",
   "execution_count": 31,
   "metadata": {},
   "outputs": [],
   "source": [
    "\n",
    "def load_MNIST():\n",
    "\n",
    "    # we want to flat the examples\n",
    "\n",
    "    training_set = datasets.MNIST(root='./data', train=True, download=True, transform= None)\n",
    "    test_set = datasets.MNIST(root='./data', train=False, download=True, transform= None)\n",
    "\n",
    "    x_train = training_set.data.numpy().reshape(-1,28*28)\n",
    "    x_test = test_set.data.numpy().reshape(-1,28*28)\n",
    "\n",
    "    y_train = training_set.targets.numpy()\n",
    "    y_test = test_set.targets.numpy()\n",
    "\n",
    "    return x_train, y_train, x_test, y_test\n",
    "\n",
    "## we can load the training set and test set\n",
    "x_train, y_train, x_test, y_test = load_MNIST()\n",
    "\n",
    "## we use a mask to selects those subsets\n",
    "train_filter = np.isin(y_train, [3, 5, 8, 9])\n",
    "test_filter = np.isin(y_test, [3, 5, 8, 9])\n",
    "\n",
    "# apply the mask to the entire dataset\n",
    "x_train, y_train = x_train[train_filter], y_train[train_filter]\n",
    "x_test, y_test = x_test[test_filter], y_test[test_filter]\n"
   ]
  },
  {
   "cell_type": "code",
   "execution_count": 52,
   "metadata": {
    "scrolled": false
   },
   "outputs": [
    {
     "name": "stdout",
     "output_type": "stream",
     "text": [
      "\n",
      "The best parameters obtained: algorithm=2.0, weights=0.0, n_neighbors=24.0, p=2.0\n",
      "[[0.69444444]\n",
      " [0.69444444]\n",
      " [0.69444444]\n",
      " [0.75      ]\n",
      " [0.69444444]\n",
      " [0.61111111]\n",
      " [0.69444444]\n",
      " [0.69444444]\n",
      " [0.66666667]\n",
      " [0.69444444]\n",
      " [0.75      ]\n",
      " [0.69444444]\n",
      " [0.69444444]\n",
      " [0.72222222]\n",
      " [0.61111111]]\n",
      "[[ 2.  0. 75.  2.]\n",
      " [ 0.  0. 75.  1.]\n",
      " [ 2.  1. 88.  2.]\n",
      " [ 2.  0. 24.  2.]\n",
      " [ 0.  0.  3.  2.]\n",
      " [ 0.  0.  2.  2.]\n",
      " [ 2.  0. 58.  2.]\n",
      " [ 1.  1. 59.  2.]\n",
      " [ 2.  0. 71.  2.]\n",
      " [ 1.  1. 63.  2.]\n",
      " [ 2.  1. 84.  1.]\n",
      " [ 0.  1. 76.  2.]\n",
      " [ 0.  0. 73.  1.]\n",
      " [ 1.  1. 78.  1.]\n",
      " [ 0.  0.  2.  2.]]\n",
      "\n",
      "The best parameters obtained: algorithm=0.0, weights=0.0, n_neighbors=17.0, p=1.0\n",
      "[[0.75      ]\n",
      " [0.69444444]\n",
      " [0.69444444]\n",
      " [0.75      ]\n",
      " [0.61111111]\n",
      " [0.61111111]\n",
      " [0.61111111]\n",
      " [0.61111111]\n",
      " [0.69444444]\n",
      " [0.61111111]\n",
      " [0.61111111]]\n",
      "[[ 0.  0. 17.  1.]\n",
      " [ 0.  0. 76.  1.]\n",
      " [ 2.  1. 17.  2.]\n",
      " [ 2.  0. 16.  1.]\n",
      " [ 0.  0. 78.  2.]\n",
      " [ 0.  0. 79.  2.]\n",
      " [ 1.  0. 79.  2.]\n",
      " [ 2.  0. 79.  2.]\n",
      " [ 0.  1. 79.  2.]\n",
      " [ 0.  0. 79.  2.]\n",
      " [ 0.  0. 79.  2.]]\n",
      "\n",
      "The best parameters obtained: algorithm=2.0, weights=1.0, n_neighbors=16.0, p=1.0\n",
      "[[0.61111111]\n",
      " [0.69444444]\n",
      " [0.77777778]\n",
      " [0.61111111]\n",
      " [0.69444444]\n",
      " [0.72222222]\n",
      " [0.61111111]\n",
      " [0.61111111]\n",
      " [0.61111111]]\n",
      "[[ 0.  0. 99.  1.]\n",
      " [ 2.  0.  7.  1.]\n",
      " [ 2.  1. 16.  1.]\n",
      " [ 0.  0. 96.  2.]\n",
      " [ 1.  0. 52.  1.]\n",
      " [ 2.  1. 98.  2.]\n",
      " [ 0.  0. 99.  1.]\n",
      " [ 0.  0. 96.  2.]\n",
      " [ 0.  0. 96.  2.]]\n"
     ]
    }
   ],
   "source": [
    "np.random.seed(42)\n",
    "algo_list = [\"ball_tree\",\"kd_tree\",\"brute\"]\n",
    "weight_list = [\"uniform\", \"distance\"]\n",
    "\n",
    "algorithm = (0,1,2)\n",
    "weights = (0,1)\n",
    "n_neighbors = tuple(np.arange(1,100,1, dtype= np.int))\n",
    "p = (1, 2)\n",
    "\n",
    "domain = [{'name': 'algorithm', 'type': 'categorical', 'domain':algorithm},\n",
    "          {'name': 'weights', 'type': 'categorical', 'domain':weights},\n",
    "          {'name': 'n_neighbors', 'type': 'discrete', 'domain': n_neighbors},\n",
    "          {'name': 'p', 'type': 'discrete', 'domain': p}]\n",
    "\n",
    "def objective_function(x):\n",
    "    scores_list = []\n",
    "    param=x[0]\n",
    "    \n",
    "    temp1 = algo_list[int(param[0])]\n",
    "    temp2 = weight_list[int(param[1])]\n",
    "    model = KNeighborsClassifier(\n",
    "        algorithm= temp1, \n",
    "        weights= temp2, \n",
    "        n_neighbors = int(param[2]), \n",
    "        p = int(param[3]),\n",
    "        n_jobs=-1)\n",
    "    \n",
    "    model.fit(x_train, y_train)\n",
    "    score = model.score(x_test, y_test)\n",
    "    return score\n",
    "\n",
    "acquisitions = ['MPI','EI','LCB']\n",
    "for aq in acquisitions:\n",
    "    opt = GPyOpt.methods.BayesianOptimization(f = objective_function,   # function to optimize\n",
    "                                                  domain = domain,         # box-constrains of the problem\n",
    "                                                  acquisition_type = aq ,      # Select acquisition function MPI, EI, LCB\n",
    "                                                 )\n",
    "    opt.acquisition.exploration_weight=0.5\n",
    "    opt.run_optimization(max_iter=10) \n",
    "\n",
    "    x_best = opt.X[np.argmax(opt.Y)] # argmin -> argmax\n",
    "    print()\n",
    "    print(\"The best parameters obtained: algorithm=\" + str(x_best[0]) + \n",
    "          \", weights=\" + str(x_best[1]) +  \n",
    "          \", n_neighbors=\" + str(x_best[2]) + \n",
    "          \", p=\" + str(x_best[3]))\n",
    "    print(opt.Y)\n",
    "    print(opt.X)"
   ]
  },
  {
   "cell_type": "code",
   "execution_count": 50,
   "metadata": {},
   "outputs": [
    {
     "name": "stdout",
     "output_type": "stream",
     "text": [
      "0.75\n",
      "0.7222222222222222\n",
      "0.8333333333333334\n"
     ]
    }
   ],
   "source": [
    "model = KNeighborsClassifier(\n",
    "        algorithm= algo_list[2], \n",
    "        weights= weight_list[0],\n",
    "        n_neighbors = 24, \n",
    "        p = 2,\n",
    "        n_jobs=-1)\n",
    "model.fit(x_train, y_train)\n",
    "print(model.score(x_test, y_test))"
   ]
  }
 ],
 "metadata": {
  "kernelspec": {
   "display_name": "Python [conda env:torch37]",
   "language": "python",
   "name": "conda-env-torch37-py"
  },
  "language_info": {
   "codemirror_mode": {
    "name": "ipython",
    "version": 3
   },
   "file_extension": ".py",
   "mimetype": "text/x-python",
   "name": "python",
   "nbconvert_exporter": "python",
   "pygments_lexer": "ipython3",
   "version": "3.7.9"
  }
 },
 "nbformat": 4,
 "nbformat_minor": 4
}
